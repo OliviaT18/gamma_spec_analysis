{
 "cells": [
  {
   "cell_type": "markdown",
   "metadata": {},
   "source": [
    "# Peak finder functions\n",
    "- finder, plotter and get counts\n",
    "- add to Steves .py file later"
   ]
  },
  {
   "cell_type": "code",
   "execution_count": null,
   "metadata": {},
   "outputs": [],
   "source": [
    "import numpy as np\n",
    "import pandas as pd\n",
    "import matplotlib.pyplot as plt\n",
    "import gs_analysis as ga\n",
    "\n",
    "def sp_peak_finder(x, prominence, wlen):\n",
    "\n",
    "    sf = ga.five_point_smooth(x)\n",
    "    smooth = np.array(sf)\n",
    "    sf2 = ga.five_point_smooth(smooth)\n",
    "    smooth2 = np.array(sf2)\n",
    "    peaks,_ = find_peaks(sf2, prominence = prominence, wlen = wlen)\n",
    "    \n",
    "    return(smooth2, peaks)\n",
    "\n",
    "def peak_identifier(smooth_counts, ebins, peaks):\n",
    "    \n",
    "    plt.plot(ebins[peaks], smooth_counts[peaks], \"xr\"); plt.plot(ebins, smooth_counts)\n",
    "    plt.xlabel('ebins')\n",
    "    plt.ylabel('counts')\n",
    "    plt.yscale('log') \n",
    "    plt.show\n",
    "    \n",
    "\n",
    "def peak_counts(peaks, index, smooth_counts, ebins):\n",
    "    \"\"\" Index is the peak array index for the peak that counts is required for\n",
    "        i.e [0], NOT the peak index itself i.e [3210]\n",
    "        Returns the index of the peak and its calculated count\n",
    "    \"\"\"    \n",
    "    x, y = ga.get_peak_roi(peaks[index], smooth_counts, ebins, offset=10)\n",
    "    \n",
    "    length = len(x)\n",
    "    start_pos = x[0]\n",
    "    end_pos = x[length - 1]\n",
    "    start, = np.where(ebins == start_pos)\n",
    "    end, = np.where(ebins == end_pos)\n",
    "    \n",
    "    counts = ga.net_counts(smooth_counts, start[0], end[0], m=1)\n",
    "    \n",
    "    return(peaks[index], counts)"
   ]
  }
 ],
 "metadata": {
  "kernelspec": {
   "display_name": "Python 3",
   "language": "python",
   "name": "python3"
  },
  "language_info": {
   "codemirror_mode": {
    "name": "ipython",
    "version": 3
   },
   "file_extension": ".py",
   "mimetype": "text/x-python",
   "name": "python",
   "nbconvert_exporter": "python",
   "pygments_lexer": "ipython3",
   "version": "3.8.3"
  }
 },
 "nbformat": 4,
 "nbformat_minor": 4
}
