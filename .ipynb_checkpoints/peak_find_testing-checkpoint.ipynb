{
 "cells": [
  {
   "cell_type": "markdown",
   "metadata": {},
   "source": [
    "# Gamma spec analysis"
   ]
  },
  {
   "cell_type": "code",
   "execution_count": 113,
   "metadata": {},
   "outputs": [],
   "source": [
    "import numpy as np\n",
    "import pandas as pd\n",
    "import matplotlib.pyplot as plt\n",
    "\n",
    "import gs_analysis as ga"
   ]
  },
  {
   "cell_type": "code",
   "execution_count": 114,
   "metadata": {},
   "outputs": [
    {
     "name": "stdout",
     "output_type": "stream",
     "text": [
      "<class 'numpy.ndarray'>\n"
     ]
    },
    {
     "data": {
      "image/png": "[encoded data removed]",
      "text/plain": [
       "<Figure size 432x288 with 1 Axes>"
      ]
     },
     "metadata": {
      "needs_background": "light"
     },
     "output_type": "display_data"
    }
   ],
   "source": [
    "path = \"test_data/Co_60_raised_1.spe\"\n",
    "counts, ebins = ga.get_spect(path)\n",
    "\n",
    "ga.plot_spec(counts, erg=ebins)\n",
    "\n",
    "print(type(counts))"
   ]
  },
  {
   "cell_type": "markdown",
   "metadata": {},
   "source": [
    "## Peak finder\n",
    "### SciPy.signal version\n",
    "\n",
    "(ebins is y, count is the data in the file and x)\n",
    "* smoothing func in ga removes noise\n",
    "\n",
    "#### Peak detection process\n",
    "(https://www.ncbi.nlm.nih.gov/pmc/articles/PMC2631518/)\n",
    "- raw spec -> smooth spec -> baseline correction -> peaks\n",
    "okay so can get raw, smoothed and peaks, baseline?\n",
    "\n",
    "- look at scipy.signal savgol_filter too - looks where 2nd deriv is large, then finds width and then midpooint (https://stackoverflow.com/questions/47519626/using-numpy-scipy-to-identify-slope-changes-in-digital-signals)"
   ]
  },
  {
   "cell_type": "code",
   "execution_count": 115,
   "metadata": {},
   "outputs": [],
   "source": [
    "from scipy.signal import find_peaks, peak_prominences, argrelmax, savgol_filter"
   ]
  },
  {
   "cell_type": "code",
   "execution_count": 124,
   "metadata": {},
   "outputs": [
    {
     "name": "stdout",
     "output_type": "stream",
     "text": [
      "[1398 3210 3646]\n"
     ]
    },
    {
     "data": {
      "image/png": "[encoded data removed]",
      "text/plain": [
       "<Figure size 432x288 with 1 Axes>"
      ]
     },
     "metadata": {
      "needs_background": "light"
     },
     "output_type": "display_data"
    }
   ],
   "source": [
    "def sp_peak_finder(x, prominence, wlen):\n",
    "\n",
    "    sf = ga.five_point_smooth(x)\n",
    "    smooth = np.array(sf)\n",
    "    sf2 = ga.five_point_smooth(smooth)\n",
    "    smooth2 = np.array(sf2)\n",
    "    peaks,_ = find_peaks(sf2, prominence = prominence, wlen = wlen)\n",
    "    \n",
    "    return(peaks)\n",
    "\n",
    "def peak_identifier(x, peaks):\n",
    "    sf = ga.five_point_smooth(x)\n",
    "    smooth = np.array(sf)\n",
    "    sf2 = ga.five_point_smooth(smooth)\n",
    "    smooth2 = np.array(sf2)\n",
    "    plt.plot(peaks2, smooth2[peaks2], \"xr\"); plt.plot(smooth2)\n",
    "    plt.xlabel('Peak Index')\n",
    "    plt.ylabel('Counts')\n",
    "    plt.yscale('log')\n",
    "    plt.show\n",
    "    \n",
    "peaks = sp_peak_finder(counts, 90, 10)\n",
    "print(peaks)\n",
    "plot = peak_identifier(counts, peaks)\n",
    "\n",
    "#this function picks up the 511(ish) peak that Steve mentioned\n",
    "#the plotting function only works for this function not the ones below\n",
    "#im not sure how to get it to use ebins instead of peak index - cant find anything online for any of the versions\n",
    "#the 2 main peaks are picked up at very slightly different indexes but i dont think it really matters right now "
   ]
  },
  {
   "cell_type": "code",
   "execution_count": 121,
   "metadata": {},
   "outputs": [
    {
     "name": "stdout",
     "output_type": "stream",
     "text": [
      "[    0. 35274. 29723.]\n"
     ]
    },
    {
     "name": "stderr",
     "output_type": "stream",
     "text": [
      "<ipython-input-121-3419da99962f>:1: PeakPropertyWarning: some peaks have a prominence of 0\n",
      "  proms = peak_prominences(counts, peaks)[0]\n"
     ]
    }
   ],
   "source": [
    "proms = peak_prominences(counts, peaks)[0]\n",
    "print(proms)\n",
    "\n",
    "#why is the first one zero? surely if it was 0 it wouldnt show up when i put the prominence to be at least 90??"
   ]
  },
  {
   "cell_type": "markdown",
   "metadata": {},
   "source": [
    "## Diff version\n",
    "smooth, find maxima with scipy or 2nd deriv, then ?\n",
    "(https://arxiv.org/pdf/hep-ex/9506013.pdf)"
   ]
  },
  {
   "cell_type": "code",
   "execution_count": 125,
   "metadata": {},
   "outputs": [
    {
     "name": "stdout",
     "output_type": "stream",
     "text": [
      "[3210 3645]\n"
     ]
    }
   ],
   "source": [
    "#fits a polynomial to the curve in the specified window\n",
    "# then for the peaks - uses 2nd derivative, looks for places where 2nd deriv is at least half its max size\n",
    "#then finds start and end points then mid points\n",
    "# do the same method with the smoother from steve instead \n",
    "\n",
    "def peak_finder_savgol(x, wlen):\n",
    "    smooth_sig = ga.five_point_smooth(x)\n",
    "    smooth_signal = np.array(smooth_sig)\n",
    "    smooth_sig2 = ga.five_point_smooth(smooth_signal)\n",
    "    smooth_signal2 = np.array(smooth_sig2)\n",
    "    d2x = savgol_filter(smooth_signal2, window_length=wlen, polyorder=2, deriv=2)\n",
    "    max_d2x = np.max(np.abs(d2x))\n",
    "    large = np.where(np.abs(d2x) > max_d2x/2)[0]\n",
    "    peak_width = np.diff(large) > wlen\n",
    "    peak_start= np.insert(large[1:][peak_width], 0, large[0])\n",
    "    peak_end = np.append(large[:-1][peak_width], large[-1])\n",
    "    mid_point = ((peak_start + peak_end) / 2).astype(np.int)\n",
    "\n",
    "    return(mid_point) \n",
    "\n",
    "print(peak_finder_savgol(counts, 11))\n",
    "\n",
    "#this one also uses the smoothing function on top of the savgol - takes out even more noise"
   ]
  },
  {
   "cell_type": "code",
   "execution_count": 120,
   "metadata": {},
   "outputs": [
    {
     "name": "stdout",
     "output_type": "stream",
     "text": [
      "[3209 3645]\n"
     ]
    }
   ],
   "source": [
    "def peak_finder_diff(x, wlen):\n",
    "    smooth_sig = ga.five_point_smooth(x)\n",
    "    smooth_signal = np.array(smooth_sig)\n",
    "    smooth_sig2 = ga.five_point_smooth(smooth_signal)\n",
    "    smooth_signal2 = np.array(smooth_sig2)\n",
    "    max_sig = np.max(np.abs(smooth_signal2))\n",
    "    large = np.where(np.abs(smooth_signal2) > max_sig/2)[0]\n",
    "    peak_width = np.diff(large) > wlen\n",
    "    peak_start= np.insert(large[1:][peak_width], 0, large[0])\n",
    "    peak_end = np.append(large[:-1][peak_width], large[-1])\n",
    "    mid_point = ((peak_start + peak_end) / 2).astype(np.int)\n",
    "    \n",
    "    return(mid_point)\n",
    "\n",
    "print(peak_finder_diff(counts, 11))\n",
    "\n",
    "#same as above but minus the savgol filter - pretty much the same just more noise when plotting"
   ]
  },
  {
   "cell_type": "code",
   "execution_count": null,
   "metadata": {},
   "outputs": [],
   "source": []
  }
 ],
 "metadata": {
  "kernelspec": {
   "display_name": "Python 3",
   "language": "python",
   "name": "python3"
  },
  "language_info": {
   "codemirror_mode": {
    "name": "ipython",
    "version": 3
   },
   "file_extension": ".py",
   "mimetype": "text/x-python",
   "name": "python",
   "nbconvert_exporter": "python",
   "pygments_lexer": "ipython3",
   "version": "3.8.3"
  }
 },
 "nbformat": 4,
 "nbformat_minor": 4
}
